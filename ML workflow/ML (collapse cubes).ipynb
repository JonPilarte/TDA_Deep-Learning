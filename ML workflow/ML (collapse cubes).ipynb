{
 "cells": [
  {
   "cell_type": "markdown",
   "id": "a2419804",
   "metadata": {},
   "source": [
    "# <font color='green'>1. Import needed packages</font>"
   ]
  },
  {
   "cell_type": "markdown",
   "id": "f5ad33f6",
   "metadata": {},
   "source": [
    "Additional needed packages:\n",
    "- imblearn\n",
    "- tpot"
   ]
  },
  {
   "cell_type": "code",
   "execution_count": 1,
   "id": "041ad765",
   "metadata": {},
   "outputs": [],
   "source": [
    "import pandas as pd\n",
    "import numpy as np\n",
    "import matplotlib.pyplot as plt\n",
    "from IPython.display import display\n",
    "from sklearn.model_selection import train_test_split\n",
    "from sklearn.neural_network import MLPClassifier\n",
    "from sklearn.neighbors import KNeighborsClassifier\n",
    "from sklearn.svm import SVC\n",
    "from sklearn.gaussian_process import GaussianProcessClassifier\n",
    "from sklearn.gaussian_process.kernels import RBF\n",
    "from sklearn.tree import DecisionTreeClassifier\n",
    "from sklearn.ensemble import RandomForestClassifier, AdaBoostClassifier\n",
    "from sklearn.naive_bayes import GaussianNB\n",
    "from sklearn.discriminant_analysis import QuadraticDiscriminantAnalysis\n",
    "from sklearn.linear_model import SGDClassifier\n",
    "from sklearn.model_selection import cross_val_score\n",
    "from sklearn.metrics import confusion_matrix\n",
    "from sklearn import metrics\n",
    "import seaborn as sns\n",
    "from sklearn import metrics, preprocessing, tree\n",
    "from sklearn.metrics import make_scorer, SCORERS\n",
    "from sklearn.metrics import accuracy_score, recall_score, precision_score, f1_score, fbeta_score\n",
    "from sklearn.model_selection import train_test_split\n",
    "from sklearn.model_selection import GridSearchCV, RandomizedSearchCV\n",
    "from sklearn.ensemble import RandomForestClassifier\n",
    "from sklearn.model_selection import StratifiedKFold \n",
    "from sklearn.model_selection import GroupKFold\n",
    "from sklearn.preprocessing import LabelEncoder\n",
    "from sklearn.decomposition import PCA\n",
    "from imblearn.under_sampling import RandomUnderSampler\n",
    "from imblearn.over_sampling import RandomOverSampler\n",
    "from imblearn.over_sampling import SMOTE"
   ]
  },
  {
   "cell_type": "markdown",
   "id": "0111b7a8",
   "metadata": {},
   "source": [
    "# <font color='green'>2. Importing and understanding the data</font>"
   ]
  },
  {
   "cell_type": "code",
   "execution_count": null,
   "id": "3b4b5f5b",
   "metadata": {
    "scrolled": true
   },
   "outputs": [],
   "source": [
    "df_labels= pd.read_csv('all-ClinicalLabels-OLD_case_sensitive.csv', low_memory=False)\n",
    "df_inputs= pd.read_csv('dataset_Elderberry_plus_120nm_64_onh_vessel_removed.csv', low_memory=False)\n",
    "\n",
    "#display(df_labels) #FULL_ID\n",
    "#display(df_inputs) #Observations\n",
    "\n",
    "df_inputs = df_inputs.rename(columns={'Observations': 'FULL_ID'})\n",
    "merged_df = pd.merge(df_labels, df_inputs, on='FULL_ID', how='inner')\n",
    "\n",
    "#print(df_labels['FULL_ID'].nunique())\n",
    "#print(df_inputs['FULL_ID'].nunique())\n",
    "print(merged_df['PATIENTID'].nunique())\n",
    "\n",
    "merged_df"
   ]
  },
  {
   "cell_type": "code",
   "execution_count": null,
   "id": "030a71a6",
   "metadata": {},
   "outputs": [],
   "source": [
    "grouped_df = merged_df.groupby(['PATIENTID']).mean()\n",
    "grouped_df"
   ]
  },
  {
   "cell_type": "code",
   "execution_count": null,
   "id": "5899988c",
   "metadata": {},
   "outputs": [],
   "source": [
    "counts=grouped_df['PET_RESULT'].value_counts().plot(kind='barh',color='green');\n",
    "grouped_df['PET_RESULT'].value_counts().plot(kind='barh',color='green')\n",
    "plt.savefig('plot0.png', dpi=300, bbox_inches='tight',transparent =True)\n",
    "print(counts)"
   ]
  },
  {
   "cell_type": "code",
   "execution_count": 5,
   "id": "24f12e65",
   "metadata": {
    "scrolled": true
   },
   "outputs": [],
   "source": [
    "X = grouped_df.drop(['AGE','HIS_SCORE','PET_RESULT'], axis=1)\n",
    "y = grouped_df['PET_RESULT']\n",
    "\n",
    "# ros = RandomUnderSampler(random_state=42)\n",
    "ros = SMOTE(random_state=42)\n",
    "X, y = ros.fit_resample(X, y)"
   ]
  },
  {
   "cell_type": "code",
   "execution_count": null,
   "id": "1d0be3df",
   "metadata": {
    "scrolled": true
   },
   "outputs": [],
   "source": [
    "counts2=y.value_counts().plot(kind='barh',color='purple')\n",
    "y.value_counts().plot(kind='barh',color='purple')\n",
    "plt.savefig('plot1.png', dpi=300, bbox_inches='tight',transparent =True)\n",
    "print(counts2)"
   ]
  },
  {
   "cell_type": "code",
   "execution_count": 7,
   "id": "a6c99382",
   "metadata": {
    "scrolled": true
   },
   "outputs": [],
   "source": [
    "# grouped_df.value_counts(sort=True, ascending=True).plot(kind='barh',color='green');\n",
    "# plt.savefig('plot0.png', dpi=300, bbox_inches='tight',transparent =True)\n",
    "# display(grouped_df['PET_RESULT'].value_counts(sort=True, ascending=True))\n",
    "# print('Number of different patients: '+str(grouped_df['PATIENTID'].nunique()))"
   ]
  },
  {
   "cell_type": "code",
   "execution_count": 8,
   "id": "707aae2e",
   "metadata": {},
   "outputs": [],
   "source": [
    "# y.value_counts(sort=True, ascending=True).plot(kind='barh',color='purple');\n",
    "# plt.savefig('plot1.png', dpi=300, bbox_inches='tight',transparent =True)\n",
    "# display(y.value_counts(sort=True, ascending=True))\n",
    "# print('Number of different patients: '+str(X['PATIENTID'].nunique()))"
   ]
  },
  {
   "cell_type": "code",
   "execution_count": 9,
   "id": "98433562",
   "metadata": {},
   "outputs": [],
   "source": [
    "kf = StratifiedKFold(n_splits=5, shuffle=True, random_state=42)\n",
    "\n",
    "# pca = PCA(n_components=18, svd_solver='arpack')\n",
    "# X=pca.fit_transform(X)\n",
    "# display(X)\n",
    "\n",
    "X_train, X_test, y_train, y_test = train_test_split(X, y, test_size=0.2, random_state=42)"
   ]
  },
  {
   "cell_type": "markdown",
   "id": "280dbcc2",
   "metadata": {},
   "source": [
    "# <font color='green'>5. Automated Classifier and Hyperparameter tunning with TPOT-AutoML</font>"
   ]
  },
  {
   "cell_type": "code",
   "execution_count": null,
   "id": "f86167cf",
   "metadata": {
    "jupyter": {
     "outputs_hidden": true
    },
    "tags": []
   },
   "outputs": [
    {
     "data": {
      "application/vnd.jupyter.widget-view+json": {
       "model_id": "1a85e68dfc2b4e76a7bb82a618b1bfcf",
       "version_major": 2,
       "version_minor": 0
      },
      "text/plain": [
       "Optimization Progress:   0%|          | 0/510 [00:00<?, ?pipeline/s]"
      ]
     },
     "metadata": {},
     "output_type": "display_data"
    },
    {
     "name": "stdout",
     "output_type": "stream",
     "text": [
      "\n",
      "Generation 1 - Current best internal CV score: 0.8124195849575543\n",
      "\n",
      "Generation 2 - Current best internal CV score: 0.8124195849575543\n",
      "\n",
      "Generation 3 - Current best internal CV score: 0.8124195849575543\n",
      "\n",
      "Generation 4 - Current best internal CV score: 0.8124195849575543\n",
      "\n",
      "Generation 5 - Current best internal CV score: 0.8124195849575543\n",
      "\n",
      "Generation 6 - Current best internal CV score: 0.8553148410954792\n",
      "\n",
      "Generation 7 - Current best internal CV score: 0.8553148410954792\n",
      "\n",
      "Generation 8 - Current best internal CV score: 0.8553148410954792\n"
     ]
    }
   ],
   "source": [
    "import warnings\n",
    "warnings.filterwarnings('ignore')\n",
    "\n",
    "from tpot import TPOTClassifier\n",
    "\n",
    "# Define TPOT classifier\n",
    "tpot_model = TPOTClassifier(generations=50, population_size=10, \n",
    "                            periodic_checkpoint_folder=\"tpot_mnst1.txt\", verbosity=2, \n",
    "                            random_state=42, cv = kf, scoring = 'roc_auc', n_jobs=-1, \n",
    "                            config_dict=None) \n",
    "\n",
    "# Fit/start training\n",
    "tpot_model.fit(X_train, y_train)\n",
    "print('Done training/fitting TPOT session.')\n",
    "\n",
    "# Get TPOT's score on test set (default metric is 'accuracy'; define something else in TPOT classifier if needed)\n",
    "print('TPOTs score on test set is...')\n",
    "print(tpot_model.score(X_test, y_test))\n",
    "\n",
    "# Export the best pipeline\n",
    "tpot_model.export('tpot_best_pipeline.py')\n",
    "\n",
    "# Create sorted by CV (highest to lowest) dataframe \n",
    "my_dict = list(tpot_model.evaluated_individuals_.items())\n",
    "# Create an empty dataframe to append the model strings, model info strings and CV score strings to\n",
    "model_scores = pd.DataFrame()\n",
    "for model in my_dict:\n",
    "    model_name = model[0]\n",
    "    model_info = model[1] # You could take this out if the values of the pipeline aren't important to you\n",
    "    cv_score = model[1].get('internal_cv_score')  # Pull out cv_score as a column (i.e., sortable)\n",
    "    model_scores = model_scores.append({'model': model_name,\n",
    "                                        'cv_score': cv_score, # You could take this out if the values of the pipeline aren't important to you\n",
    "                                        'model_info': model_info,},\n",
    "                                       ignore_index=True)\n",
    "    \n",
    "# Sort by best CV score to worst (top to bottom)\n",
    "model_scores = model_scores.sort_values('cv_score', ascending=False)\n",
    "print('Model Scores dataframe is...')\n",
    "print(model_scores)\n",
    "\n",
    "# Remove duplicate CV score rows and keep top X pipelines (to get best, 'unique' pipelines)\n",
    "model_scores = model_scores.drop_duplicates(subset =\"cv_score\", keep = False)"
   ]
  },
  {
   "cell_type": "code",
   "execution_count": null,
   "id": "b0342cf0",
   "metadata": {},
   "outputs": [],
   "source": []
  }
 ],
 "metadata": {
  "kernelspec": {
   "display_name": "Python 3 (ipykernel)",
   "language": "python",
   "name": "python3"
  },
  "language_info": {
   "codemirror_mode": {
    "name": "ipython",
    "version": 3
   },
   "file_extension": ".py",
   "mimetype": "text/x-python",
   "name": "python",
   "nbconvert_exporter": "python",
   "pygments_lexer": "ipython3",
   "version": "3.10.12"
  }
 },
 "nbformat": 4,
 "nbformat_minor": 5
}
