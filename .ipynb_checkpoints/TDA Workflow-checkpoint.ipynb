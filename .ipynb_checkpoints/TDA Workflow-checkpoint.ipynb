{
 "cells": [
  {
   "cell_type": "markdown",
   "metadata": {},
   "source": [
    "# <font color='green'>1. Import needed packages</font>"
   ]
  },
  {
   "cell_type": "code",
   "execution_count": null,
   "metadata": {
    "scrolled": true
   },
   "outputs": [],
   "source": [
    "import ripser as rips\n",
    "import random\n",
    "import gc\n",
    "from persim import landscapes\n",
    "import persim as pers\n",
    "import matplotlib.pyplot as plt\n",
    "import matplotlib as mpl\n",
    "mpl.rcParams.update(mpl.rcParamsDefault)\n",
    "from Bio import Phylo\n",
    "from Bio.Phylo.TreeConstruction import DistanceCalculator\n",
    "from Bio.Phylo.TreeConstruction import DistanceTreeConstructor\n",
    "from Bio import AlignIO\n",
    "from Bio.Phylo.TreeConstruction import DistanceMatrix"
   ]
  },
  {
   "cell_type": "markdown",
   "metadata": {},
   "source": [
    "# <font color='green'>2. Calculating barcodes</font>"
   ]
  },
  {
   "cell_type": "code",
   "execution_count": 2,
   "metadata": {
    "id": "4hw5t64dwlZx"
   },
   "outputs": [],
   "source": [
    "# Obtains the barcodes for \"image\" up to dimension \"dim\" \n",
    "# Uses \"tries\" number of samples of size \"sample_size\" \n",
    "# Returns the barcodes \"diagrams_img\" which contains all of the partial barcodes\n",
    "\n",
    "def barcodes(image, dim=1, tries=1, sample_size=300 ):    \n",
    "    diagrams_img=[np.empty(shape=(0,2))]*(dim+1)\n",
    "    wavel,width, height = sizes\n",
    "    for y in range(tries):\n",
    "        matrix=[]\n",
    "        for iter in range(sample_size): #Gets the grayscale value for a random pixel\n",
    "                val=0\n",
    "                while val==0:\n",
    "                    (rand_i,rand_j,rand_k)=(random.randrange(0,wavel),random.randrange(0,width),random.randrange(0,height))\n",
    "                    val = image[rand_i] [rand_j][rand_k]\n",
    "                matrix+=[[rand_i, rand_j,rand_k,val]]\n",
    "                #print(matrix)\n",
    "                \n",
    "        data_image = pd.DataFrame.from_records(matrix, columns=['wave_length','x','y','gray_val'])\n",
    "        del matrix\n",
    "        gc.collect()\n",
    "        print (\"Loaded \", y+1, \"of \", tries, \" samples of size\", sample_size, end=\"\\r\" )\n",
    "        sub_diagrams_img = rips.ripser(data_image, maxdim=dim,metric=\"manhattan\")['dgms']\n",
    "        diagrams_img=[np.concatenate([diagrams_img[i],sub_diagrams_img[i]],axis=0) for i in range (dim+1)]\n",
    "        \n",
    "    print(\"\\n\")\n",
    "    return diagrams_img"
   ]
  },
  {
   "cell_type": "markdown",
   "metadata": {},
   "source": [
    "# <font color='green'>3. Plotting barcodes</font>"
   ]
  },
  {
   "cell_type": "code",
   "execution_count": null,
   "metadata": {
    "id": "jX91CQzf7vQO"
   },
   "outputs": [],
   "source": [
    "# Plots the barcodes of \"imagen\" up to dimension \"dim\"\n",
    "# Uses \"tries\" number of samples of size \"sample_size\" \n",
    "# Returns the barcodes \"diag1\" and the image loaded for python \"input_image\"\n",
    "\n",
    "def image_plot(input_image, max_dim=1, tries=1, sample=300, mounts=7):\n",
    "    \n",
    "    # Computes the barcode\n",
    "    diag1=barcodes(input_image,max_dim,tries,sample)\n",
    "\n",
    "    # Computes the landscape for each dimension\n",
    "    land1=[]\n",
    "    for i in range (max_dim+1):\n",
    "        land_tot=landscapes.approximate.PersLandscapeApprox(dgms=diag1, hom_deg=int(i),num_steps=1000)\n",
    "        land1.append (landscapes.approximate.PersLandscapeApprox(values=land_tot.values[:mounts], dgms=diag1, hom_deg=int(i), num_steps=1000))\n",
    " \n",
    "    # Draws the barcodes and landscapes\n",
    "    fig, axs = plt.subplots(max_dim+1, 2, dpi=300)\n",
    "    fig.set_size_inches(6, 6)\n",
    "    for i in range(max_dim+1):\n",
    "        pers.plot_diagrams(diag1[i], title=\"Persistence Diagram \\n in dimension \"+str(i),ax=axs[i][0],labels=\"H_\"+str(i))\n",
    "        landscapes.plot_landscape_simple(land1[i], title=\"Persistence landscape \\n in dimension \"+str(i), ax=axs[i][1])\n",
    "    fig.tight_layout()\n",
    "    \n",
    "    return diag1,land1"
   ]
  },
  {
   "cell_type": "markdown",
   "metadata": {},
   "source": [
    "# <font color='green'>4. Vectorizing persistence landscapes</font>"
   ]
  },
  {
   "cell_type": "code",
   "execution_count": null,
   "metadata": {
    "colab": {
     "base_uri": "https://localhost:8080/"
    },
    "executionInfo": {
     "elapsed": 1529,
     "status": "ok",
     "timestamp": 1679455638040,
     "user": {
      "displayName": "David On",
      "userId": "10359268072445763141"
     },
     "user_tz": 240
    },
    "id": "hgySL9ntnf2R",
    "outputId": "6d734e43-c00d-4304-e7e4-a799582628fa"
   },
   "outputs": [],
   "source": [
    "# This will compute the distance between the persistent landscapes\n",
    "\n",
    "print(len(codes_photos),codes_photos[0])\n",
    "\n",
    "dist_photos=[]\n",
    "\n",
    "i=1\n",
    "for f1 in codes_photos:\n",
    "    for f2 in codes_photos:\n",
    "        #print(f1[0],f2[0],f1,f2)\n",
    "    \n",
    "        # Computes the difference between the persistent landscapes (in a given dimension)\n",
    "        dif_ij=landscapes.tools.lc_approx([f1[i],f2[i]],[1,-1])\n",
    "        \n",
    "        # Computes the norm of the difference barcode (different norms can be used)\n",
    "        dist_photos.append(dif_ij.p_norm(1))\n",
    "        #print(i,dist_photos)\n",
    "    \n",
    "dist_photos=np.reshape(dist_photos,(len(codes_photos),len(codes_photos)))    \n",
    "dist_photos=pd.DataFrame(dist_photos, index=names_photos, columns=names_photos)\n",
    "Bio_dist_photos=DistanceMatrix(names_photos)\n",
    "for i,j in itertools.combinations(names_photos,2):\n",
    "    Bio_dist_photos[i,j] = dist_photos[i][j]\n",
    "\n",
    "print (Bio_dist_photos)"
   ]
  },
  {
   "cell_type": "code",
   "execution_count": null,
   "metadata": {
    "colab": {
     "base_uri": "https://localhost:8080/",
     "height": 449
    },
    "executionInfo": {
     "elapsed": 469,
     "status": "ok",
     "timestamp": 1679455645646,
     "user": {
      "displayName": "David On",
      "userId": "10359268072445763141"
     },
     "user_tz": 240
    },
    "id": "pBW11-me33Wm",
    "outputId": "73a895e7-1e9e-4065-fead-c25476a77678",
    "scrolled": true
   },
   "outputs": [],
   "source": [
    "constructor=DistanceTreeConstructor()\n",
    "arbol_photos=constructor.upgma(distance_matrix=Bio_dist_photos)\n",
    "Phylo.draw(arbol_photos)"
   ]
  }
 ],
 "metadata": {
  "colab": {
   "provenance": []
  },
  "kernelspec": {
   "display_name": "Python 3 (ipykernel)",
   "language": "python",
   "name": "python3"
  },
  "language_info": {
   "codemirror_mode": {
    "name": "ipython",
    "version": 3
   },
   "file_extension": ".py",
   "mimetype": "text/x-python",
   "name": "python",
   "nbconvert_exporter": "python",
   "pygments_lexer": "ipython3",
   "version": "3.10.12"
  }
 },
 "nbformat": 4,
 "nbformat_minor": 1
}
